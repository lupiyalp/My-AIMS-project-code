{
 "cells": [
  {
   "cell_type": "code",
   "execution_count": 9,
   "id": "mobile-insertion",
   "metadata": {},
   "outputs": [],
   "source": [
    "import numpy as np\n",
    "from random import *"
   ]
  },
  {
   "cell_type": "markdown",
   "id": "ideal-reggae",
   "metadata": {},
   "source": [
    "# Epsilon greedy algorithm"
   ]
  },
  {
   "cell_type": "code",
   "execution_count": 73,
   "id": "typical-picture",
   "metadata": {},
   "outputs": [
    {
     "name": "stdout",
     "output_type": "stream",
     "text": [
      "[10, 7, 3, 10, 5, 10, 9, 2, 8, 10] 74 \n",
      " explored 8 times \n",
      " exploited 2 times\n"
     ]
    }
   ],
   "source": [
    "epsilon=0.9\n",
    "rewards=[]\n",
    "plcount=0    #counts the number of exploitation\n",
    "ptcount=0    #counts the number of explorations\n",
    "for i in range(10):\n",
    "    \n",
    "    r=np.random.uniform(0,1)\n",
    "    #Exploration\n",
    "    if r<epsilon:\n",
    "        rewards.append(randint(1,10))\n",
    "        plcount+=1\n",
    "    #Explotation    \n",
    "    else:\n",
    "        rewards.append(randint(7,10))\n",
    "        ptcount+=1\n",
    "        #rewards\n",
    "print(rewards,sum(rewards),\"\\n\",\"explored\",plcount,\"times\",\"\\n\",'exploited',ptcount,'times')"
   ]
  },
  {
   "cell_type": "code",
   "execution_count": null,
   "id": "orange-logan",
   "metadata": {},
   "outputs": [],
   "source": []
  },
  {
   "cell_type": "markdown",
   "id": "caring-photographer",
   "metadata": {},
   "source": [
    "# The greedy algorithm"
   ]
  },
  {
   "cell_type": "code",
   "execution_count": 68,
   "id": "congressional-heritage",
   "metadata": {},
   "outputs": [
    {
     "name": "stdout",
     "output_type": "stream",
     "text": [
      "[10, 1, 6] sum = 17\n"
     ]
    }
   ],
   "source": [
    "#seeting the first emediate returns\n",
    "reward1=[1,2,3,4,5,6,7,8,9,10]\n",
    "#chosing the largest of the immediate rewards\n",
    "c=np.max(reward1)\n",
    "Index=reward1.index(max(reward1))\n",
    "#defining the rewards that follow the first reward\n",
    "reward2=[10,9,8,6,4,5,3,7,2,1]\n",
    "reward3=[7,3,10,9,4,1,8,5,2,6]\n",
    "#Initailising list of total rewards\n",
    "total_reward=[]\n",
    "#adding the rewards of the selected action to the list\n",
    "total_reward.append([reward1[Index],reward2[Index],reward3[Index]])\n",
    "#printing out the rewards and their sum\n",
    "print(total_reward[0],'sum =',sum(total_reward[0]))\n"
   ]
  },
  {
   "cell_type": "code",
   "execution_count": null,
   "id": "residential-retro",
   "metadata": {},
   "outputs": [],
   "source": []
  },
  {
   "cell_type": "code",
   "execution_count": null,
   "id": "western-slide",
   "metadata": {},
   "outputs": [],
   "source": []
  },
  {
   "cell_type": "code",
   "execution_count": 74,
   "id": "manual-enzyme",
   "metadata": {},
   "outputs": [
    {
     "data": {
      "text/plain": [
       "9"
      ]
     },
     "execution_count": 74,
     "metadata": {},
     "output_type": "execute_result"
    }
   ],
   "source": [
    "reward1.index(max(reward1))"
   ]
  },
  {
   "cell_type": "code",
   "execution_count": null,
   "id": "tropical-narrow",
   "metadata": {},
   "outputs": [],
   "source": []
  },
  {
   "cell_type": "code",
   "execution_count": null,
   "id": "modular-agent",
   "metadata": {},
   "outputs": [],
   "source": []
  },
  {
   "cell_type": "code",
   "execution_count": null,
   "id": "spatial-bandwidth",
   "metadata": {},
   "outputs": [],
   "source": []
  },
  {
   "cell_type": "code",
   "execution_count": null,
   "id": "broad-degree",
   "metadata": {},
   "outputs": [],
   "source": []
  }
 ],
 "metadata": {
  "kernelspec": {
   "display_name": "Python 3",
   "language": "python",
   "name": "python3"
  },
  "language_info": {
   "codemirror_mode": {
    "name": "ipython",
    "version": 3
   },
   "file_extension": ".py",
   "mimetype": "text/x-python",
   "name": "python",
   "nbconvert_exporter": "python",
   "pygments_lexer": "ipython3",
   "version": "3.9.2"
  }
 },
 "nbformat": 4,
 "nbformat_minor": 5
}
